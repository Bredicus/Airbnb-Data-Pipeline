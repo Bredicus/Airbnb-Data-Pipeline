{
 "cells": [
  {
   "cell_type": "code",
   "execution_count": null,
   "id": "7dfd0077-954c-40cb-a9c2-532a8ae1fa9b",
   "metadata": {},
   "outputs": [],
   "source": [
    "from pyspark.sql import SparkSession\n",
    "\n",
    "spark = SparkSession.builder \\\n",
    "    .appName(\"DebugDataValidation\") \\\n",
    "    .getOrCreate()\n",
    "\n",
    "spark.sparkContext.setLogLevel(\"WARN\")"
   ]
  },
  {
   "cell_type": "code",
   "execution_count": null,
   "id": "bacd3ae9-2f71-4e0c-994e-b80516dad790",
   "metadata": {},
   "outputs": [],
   "source": [
    "listings_path = \"../output/cleaned_listings.parquet\"\n",
    "\n",
    "try:\n",
    "    listings_df = spark.read.parquet(listings_path)\n",
    "    print(f\"✅ Loaded {listings_df.count()} rows from cleaned_listings.parquet\")\n",
    "    listings_df.show(5, truncate=False)\n",
    "except Exception as e:\n",
    "    print(f\"❌ Failed to load {listings_path}\\n{e}\")"
   ]
  },
  {
   "cell_type": "code",
   "execution_count": null,
   "id": "f5be9005-087e-4e85-a50b-4b27ba297871",
   "metadata": {},
   "outputs": [],
   "source": [
    "calendar_path = \"../output/cleaned_calendar.parquet\"\n",
    "\n",
    "try:\n",
    "    calendar_df = spark.read.parquet(calendar_path)\n",
    "    print(f\"✅ Loaded {calendar_df.count()} rows from cleaned_calendar.parquet\")\n",
    "\n",
    "    calendar_df.select(\"listing_id\", \"date\", \"price\", \"available\").show(5, truncate=False)\n",
    "\n",
    "    # Check for null prices\n",
    "    null_prices = calendar_df.filter(calendar_df.price.isNull()).count()\n",
    "    print(f\"⚠️  {null_prices} rows have null price\")\n",
    "\n",
    "except Exception as e:\n",
    "    print(f\"❌ Failed to load {calendar_path}\\n{e}\")"
   ]
  },
  {
   "cell_type": "code",
   "execution_count": null,
   "id": "d24353f4-af64-4945-ae74-936cdd508a99",
   "metadata": {},
   "outputs": [],
   "source": [
    "revenue_path = \"../output/revenue_by_listing.csv\"\n",
    "\n",
    "try:\n",
    "    revenue_df = spark.read.option(\"header\", True).csv(revenue_path)\n",
    "    revenue_df = revenue_df.withColumn(\"total_revenue\", revenue_df[\"total_revenue\"].cast(\"double\"))\n",
    "\n",
    "    print(f\"✅ Loaded {revenue_df.count()} rows from revenue_by_listing.csv\")\n",
    "    revenue_df.select(\"listing_id\", \"total_revenue\", \"occupancy_rate\").show(5, truncate=False)\n",
    "\n",
    "    null_revenue = revenue_df.filter(revenue_df.total_revenue.isNull()).count()\n",
    "    print(f\"⚠️  {null_revenue} rows have null total_revenue\")\n",
    "\n",
    "except Exception as e:\n",
    "    print(f\"❌ Failed to load {revenue_path}\\n{e}\")"
   ]
  },
  {
   "cell_type": "code",
   "execution_count": null,
   "id": "1a01893f-239f-4c96-99d9-40b32992874a",
   "metadata": {},
   "outputs": [],
   "source": [
    "spark.stop()"
   ]
  },
  {
   "cell_type": "code",
   "execution_count": null,
   "id": "43decdc1-e2ef-4362-9ebc-eb6d6e8a9fd4",
   "metadata": {},
   "outputs": [],
   "source": []
  }
 ],
 "metadata": {
  "kernelspec": {
   "display_name": "Python 3 (ipykernel)",
   "language": "python",
   "name": "python3"
  },
  "language_info": {
   "codemirror_mode": {
    "name": "ipython",
    "version": 3
   },
   "file_extension": ".py",
   "mimetype": "text/x-python",
   "name": "python",
   "nbconvert_exporter": "python",
   "pygments_lexer": "ipython3",
   "version": "3.10.12"
  }
 },
 "nbformat": 4,
 "nbformat_minor": 5
}
