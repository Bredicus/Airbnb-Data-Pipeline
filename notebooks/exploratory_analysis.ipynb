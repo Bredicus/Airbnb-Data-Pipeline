{
 "cells": [
  {
   "cell_type": "markdown",
   "id": "2034d4cf-fbad-4f71-9aeb-f4f8c2e66d8c",
   "metadata": {},
   "source": [
    "# 📊 Airbnb: Exploratory Data Analysis\n",
    "\n",
    "This notebook explores the outputs of our Spark-based Airbnb data pipeline.  \n",
    "We will analyze estimated revenue, occupancy rates, and trends across neighborhoods.\n",
    "\n",
    "---\n",
    "\n",
    "✅ Data sources:\n",
    "- `cleaned_listings.parquet`\n",
    "- `cleaned_calendar.parquet`\n",
    "- `revenue_by_listing.csv`\n",
    "- `revenue_by_neighborhood.csv`"
   ]
  },
  {
   "cell_type": "code",
   "execution_count": null,
   "id": "0bff9223-21b2-4ae1-9715-bb7709c262b4",
   "metadata": {},
   "outputs": [],
   "source": [
    "from pyspark.sql import SparkSession\n",
    "import pandas as pd\n",
    "import matplotlib.pyplot as plt\n",
    "import seaborn as sns\n",
    "\n",
    "# Create Spark session\n",
    "spark = SparkSession.builder.appName(\"AirbnbEDA\").getOrCreate()"
   ]
  },
  {
   "cell_type": "code",
   "execution_count": null,
   "id": "a4269eb0-9193-4c80-a190-b464bdc9c5f8",
   "metadata": {},
   "outputs": [],
   "source": [
    "# Load cleaned listings\n",
    "listings_df = spark.read.parquet(\"../output/cleaned_listings.parquet\")\n",
    "\n",
    "# Load cleaned calendar\n",
    "calendar_df = spark.read.parquet(\"../output/cleaned_calendar.parquet\")\n",
    "\n",
    "# Load revenue by listing\n",
    "revenue_listing_df = spark.read.option(\"header\", True).csv(\"../output/revenue_by_listing.csv\", inferSchema=True)\n",
    "\n",
    "# Load revenue by neighborhood\n",
    "revenue_neigh_df = spark.read.option(\"header\", True).csv(\"../output/revenue_by_neighbourhood.csv\", inferSchema=True)"
   ]
  },
  {
   "cell_type": "code",
   "execution_count": null,
   "id": "d83085c5-41db-40dd-a625-bc775c41f9b0",
   "metadata": {},
   "outputs": [],
   "source": [
    "print(\"🧾 Listings:\")\n",
    "listings_df.show(5)\n",
    "\n",
    "print(\"📅 Calendar:\")\n",
    "calendar_df.show(5)\n",
    "\n",
    "print(\"💰 Revenue by Listing:\")\n",
    "revenue_listing_df.show(5)\n",
    "\n",
    "print(\"📍 Revenue by Neighborhood:\")\n",
    "revenue_neigh_df.show(5)"
   ]
  },
  {
   "cell_type": "code",
   "execution_count": null,
   "id": "e06d3728-babe-436d-8167-0a1c3706d0ed",
   "metadata": {},
   "outputs": [],
   "source": [
    "top_listings = revenue_listing_df.orderBy(\"total_revenue\", ascending=False).limit(10)\n",
    "top_listings.show(truncate=False)"
   ]
  },
  {
   "cell_type": "code",
   "execution_count": null,
   "id": "2f2686d7-f5c4-4f03-a67d-4d30297437fc",
   "metadata": {},
   "outputs": [],
   "source": [
    "# Convert to Pandas for plotting\n",
    "occupancy_pd = revenue_listing_df.select(\"occupancy_rate\").toPandas()\n",
    "\n",
    "plt.figure(figsize=(10,6))\n",
    "sns.histplot(occupancy_pd[\"occupancy_rate\"], bins=20, kde=True, color='skyblue')\n",
    "plt.title(\"Distribution of Occupancy Rates\")\n",
    "plt.xlabel(\"Occupancy Rate\")\n",
    "plt.ylabel(\"Frequency\")\n",
    "plt.grid(True)\n",
    "plt.tight_layout()\n",
    "plt.show()"
   ]
  },
  {
   "cell_type": "code",
   "execution_count": null,
   "id": "6045196e-46c9-429b-84b6-b00ba21b3291",
   "metadata": {},
   "outputs": [],
   "source": [
    "# Convert neighborhood data to Pandas\n",
    "neigh_pd = revenue_neigh_df.toPandas()\n",
    "\n",
    "# Sort by total revenue\n",
    "neigh_pd_sorted = neigh_pd.sort_values(by=\"total_revenue\", ascending=False)\n",
    "\n",
    "# Create bar plot\n",
    "plt.figure(figsize=(12,6))\n",
    "sns.barplot(\n",
    "    data=neigh_pd_sorted,\n",
    "    x=\"listing_neighbourhood\",\n",
    "    y=\"total_revenue\",\n",
    "    palette=\"viridis\"\n",
    ")\n",
    "\n",
    "plt.xticks(rotation=45, ha='right')\n",
    "plt.title(\"Total Revenue by Neighborhood\")\n",
    "plt.ylabel(\"Total Revenue ($)\")\n",
    "plt.xlabel(\"Neighborhood\")\n",
    "plt.tight_layout()\n",
    "plt.show()"
   ]
  },
  {
   "cell_type": "code",
   "execution_count": null,
   "id": "e6e5eb7b-6b25-49ef-958c-cf51070720de",
   "metadata": {},
   "outputs": [],
   "source": [
    "# Join listings with revenue and select only needed columns\n",
    "listings_revenue = listings_df.join(\n",
    "    revenue_listing_df,\n",
    "    listings_df.id == revenue_listing_df.listing_id,\n",
    "    how=\"inner\"\n",
    ").select(\n",
    "    listings_df[\"room_type\"],\n",
    "    revenue_listing_df[\"total_revenue\"]\n",
    ")\n",
    "\n",
    "# Group by room type and calculate average revenue\n",
    "roomtype_df = listings_revenue.groupBy(\"room_type\").avg(\"total_revenue\")\n",
    "roomtype_df = roomtype_df.withColumnRenamed(\"avg(total_revenue)\", \"avg_revenue\")\n",
    "\n",
    "roomtype_df.show()\n",
    "\n",
    "# Plot the data\n",
    "roomtype_pd = roomtype_df.toPandas()\n",
    "\n",
    "sns.barplot(data=roomtype_pd, x=\"room_type\", y=\"avg_revenue\", palette=\"pastel\")\n",
    "plt.title(\"Average Revenue by Room Type\")\n",
    "plt.xlabel(\"Room Type\")\n",
    "plt.ylabel(\"Avg Revenue ($)\")\n",
    "plt.tight_layout()\n",
    "plt.show()"
   ]
  },
  {
   "cell_type": "code",
   "execution_count": null,
   "id": "9245c134-36d2-4b67-b9a5-215adb0b904b",
   "metadata": {},
   "outputs": [],
   "source": [
    "spark.stop()"
   ]
  },
  {
   "cell_type": "code",
   "execution_count": null,
   "id": "19d8b958-db41-43d3-9c33-ca0e7261231d",
   "metadata": {},
   "outputs": [],
   "source": []
  }
 ],
 "metadata": {
  "kernelspec": {
   "display_name": "Python 3 (ipykernel)",
   "language": "python",
   "name": "python3"
  },
  "language_info": {
   "codemirror_mode": {
    "name": "ipython",
    "version": 3
   },
   "file_extension": ".py",
   "mimetype": "text/x-python",
   "name": "python",
   "nbconvert_exporter": "python",
   "pygments_lexer": "ipython3",
   "version": "3.10.12"
  }
 },
 "nbformat": 4,
 "nbformat_minor": 5
}
